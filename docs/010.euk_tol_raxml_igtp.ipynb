{
 "cells": [
  {
   "cell_type": "markdown",
   "metadata": {},
   "source": [
    "## using treesignal on euk_ToL using sptrees from iGTP and genetrees from RAxML\n",
    "- iGTP was run on samples of 150 gene trees, using DupLoss cost (100 runs in total)\n",
    "- the list of gene trees for iGTP was the first (MAP?) tree estimated by phylobayes (Miguel data). Notice that first tree doesn't mean much since many flat surfaces...\n",
    "- while iGTP will give us the set of reference (species) trees, the samples we will plot are the RAxML gene trees."
   ]
  },
  {
   "cell_type": "code",
   "execution_count": 1,
   "metadata": {
    "collapsed": false
   },
   "outputs": [],
   "source": [
    "%reload_ext autoreload\n",
    "%autoreload 2\n",
    "%matplotlib inline\n",
    "import matplotlib\n",
    "import matplotlib.pyplot as plt\n",
    "import sys, subprocess, time, dendropy, os, copy, glob\n",
    "import numpy as np\n",
    "from sklearn import manifold, metrics, cluster, neighbors, decomposition, preprocessing\n",
    "import treesignal"
   ]
  },
  {
   "cell_type": "markdown",
   "metadata": {},
   "source": [
    "### Loading reference trees (sptrees)\n",
    "100 estimates using iGTP duploss cost. We also add \"noise\" (SPR neighbours) since this function also removes duplicated trees. Some iGTP sptrees miss one species, and therefore must be excluded."
   ]
  },
  {
   "cell_type": "code",
   "execution_count": null,
   "metadata": {
    "collapsed": false
   },
   "outputs": [],
   "source": [
    "f_dir = \"/home/leo/Academic/Projects/164-Katz/12.concat_mbayes_output_201703/201704.igtp_output/result_0407/igtp*\"\n",
    "spstring = \"\"\n",
    "for file in glob.glob(f_dir)[:5]:\n",
    "    sptree = dendropy.TreeList.get_from_path (file, \"newick\", preserve_underscores=True)\n",
    "    if(len(sptree[0].leaf_nodes()) == 155):\n",
    "        spstring += sptree[0].as_string(\"newick\",suppress_edge_lengths=True).rstrip().replace(\"'\",\"\")\n",
    "    \n",
    "sptrees = treesignal.lowlevel_randomise_trees_with_spr_string(spstring, n_copies=2, n_spr=2)"
   ]
  },
  {
   "cell_type": "markdown",
   "metadata": {},
   "source": [
    "### Read gene trees and calculate feature matrix rows \n",
    "* Reading only first tree from each file\n",
    "* function yield_from_files allow several files to be read at once, and trees being read one by one\n",
    "* the calculated distances are scaled (using a single scaling factor for all distances, which is total number of branches (on both trees)"
   ]
  },
  {
   "cell_type": "code",
   "execution_count": null,
   "metadata": {
    "collapsed": false
   },
   "outputs": [],
   "source": [
    "ts = treesignal.TreeSignal(sp_trees = dendropy.TreeList.get( data=sptrees, schema=\"newick\"), replicates=1)\n",
    "\n",
    "f_dir = \"/home/leo/Academic/Projects/164-Katz/12.concat_mbayes_output_201703/201705.raxml/OG5_*\"\n",
    "feat_mat = []\n",
    "genesize = []\n",
    "\n",
    "for file in glob.glob(f_dir)[:10]:\n",
    "    tyield = dendropy.Tree.yield_from_files(files=[file], schema=\"nexus\", preserve_underscores=True)\n",
    "    for idx, tre in enumerate (tyield): # iterate over trees as it reads (not everything in memory at once)\n",
    "        if idx > 0: # read only first trees\n",
    "            break\n",
    "        else:\n",
    "            print (tre.as_string(\"newick\",suppress_edge_lengths=True).replace(\"'\",\"\"))\n",
    "            spectrum = ts(tre)\n",
    "            if spectrum.max() > -1.: # if genetree is too small etc. there is no spectrum\n",
    "                feat_mat.append(spectrum)\n",
    "                genesize.append(len(tre.leaf_nodes()))\n",
    "    \n",
    "    \n",
    "feat_mat = np.array(feat_mat)\n",
    "genesize = np.array(genesize)\n",
    "print (\"dimensions: \", feat_mat.shape) "
   ]
  },
  {
   "cell_type": "code",
   "execution_count": null,
   "metadata": {
    "collapsed": true
   },
   "outputs": [],
   "source": [
    "signal = feat_mat/feat_mat.mean(0); \n",
    "transf=manifold.MDS(n_components=2).fit_transform(signal)"
   ]
  },
  {
   "cell_type": "code",
   "execution_count": null,
   "metadata": {
    "collapsed": false
   },
   "outputs": [],
   "source": [
    "fig, axes = plt.subplots(1) ; fig.set_size_inches(10, 8)\n",
    "fig.subplots_adjust(top=.99, bottom=.01, left=.02, right=.98, wspace=.1, hspace=.2)\n",
    "jit = 0.00001 * transf.max() * np.random.normal(size=feat_mat.shape[0]) # avoid complete overlap of points\n",
    "axes.scatter(transf[:,1]+jit, transf[:,0]+jit[::-1], c=geneidx, edgecolor=\"none\", cmap=\"jet\", alpha=.9, s=100)\n",
    "axes.set_title(\"MDS\",  fontsize=18)"
   ]
  },
  {
   "cell_type": "code",
   "execution_count": null,
   "metadata": {
    "collapsed": true
   },
   "outputs": [],
   "source": [
    "transfeat  = decomposition.PCA(n_components=2).fit_transform(signal.T) ## order FEATURES\n",
    "feat_order = np.argsort(transfeat[:,0])"
   ]
  },
  {
   "cell_type": "code",
   "execution_count": null,
   "metadata": {
    "collapsed": false
   },
   "outputs": [],
   "source": [
    "fig, axes = plt.subplots(2,1) ; fig.set_size_inches(16, 10)\n",
    "fig.subplots_adjust(top=.99, bottom=.01, left=.03, right=.97, wspace=.1, hspace=.2)\n",
    "\n",
    "im = axes[0].imshow(signal[:,feat_order], aspect='auto', cmap=\"Spectral_r\", interpolation=\"nearest\")\n",
    "axes[0].set_title(\"Feature matrix using reference trees reordered by PCA\",  fontsize=20)\n",
    "\n",
    "im = axes[1].imshow(signal, aspect='auto', cmap=\"Spectral_r\", interpolation=\"nearest\")\n",
    "axes[1].set_title(\"Feature matrix (original order) using reference trees\",  fontsize=20)"
   ]
  },
  {
   "cell_type": "markdown",
   "metadata": {},
   "source": [
    "Add original reference (species) trees "
   ]
  },
  {
   "cell_type": "code",
   "execution_count": null,
   "metadata": {
    "collapsed": true
   },
   "outputs": [],
   "source": [
    "feat_refs = ts()"
   ]
  },
  {
   "cell_type": "code",
   "execution_count": null,
   "metadata": {
    "collapsed": false
   },
   "outputs": [],
   "source": [
    "feat_all = np.concatenate((feat_mat,feat_refs))\n",
    "signal = feat_all/feat_all.mean(0); \n",
    "transf=manifold.MDS(n_components=2).fit_transform(signal)"
   ]
  },
  {
   "cell_type": "code",
   "execution_count": null,
   "metadata": {
    "collapsed": false
   },
   "outputs": [],
   "source": [
    "cols = np.concatenate((np.array(geneidx),np.repeat(max(geneidx)+1,feat_refs.shape[0])))\n",
    "fig, axes = plt.subplots(1) ; fig.set_size_inches(10, 8)\n",
    "fig.subplots_adjust(top=.99, bottom=.01, left=.02, right=.98, wspace=.1, hspace=.2)\n",
    "axes.scatter(transf[:,1], transf[:,0],c=cols, edgecolor=\"none\", cmap=\"jet\", alpha=.9, s=200)\n",
    "axes.set_title(\"MDS\",  fontsize=18)"
   ]
  },
  {
   "cell_type": "code",
   "execution_count": null,
   "metadata": {
    "collapsed": true
   },
   "outputs": [],
   "source": []
  }
 ],
 "metadata": {
  "kernelspec": {
   "display_name": "Python 3",
   "language": "python",
   "name": "python3"
  },
  "language_info": {
   "codemirror_mode": {
    "name": "ipython",
    "version": 3
   },
   "file_extension": ".py",
   "mimetype": "text/x-python",
   "name": "python",
   "nbconvert_exporter": "python",
   "pygments_lexer": "ipython3",
   "version": "3.5.4rc1"
  }
 },
 "nbformat": 4,
 "nbformat_minor": 0
}
