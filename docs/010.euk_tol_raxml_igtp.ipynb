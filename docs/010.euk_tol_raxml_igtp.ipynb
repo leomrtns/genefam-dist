{
 "cells": [
  {
   "cell_type": "markdown",
   "metadata": {},
   "source": [
    "## using treesignal on euk_ToL using sptrees from iGTP and genetrees from RAxML\n",
    "- iGTP was run on samples of 150 gene trees, using DupLoss cost (100 runs in total)\n",
    "- the list of gene trees for iGTP was the first (MAP?) tree estimated by phylobayes (Miguel data). Notice that first tree doesn't mean much since many flat surfaces...\n",
    "- while iGTP will give us the set of reference (species) trees, the samples we will plot are the RAxML gene trees."
   ]
  },
  {
   "cell_type": "code",
   "execution_count": null,
   "metadata": {
    "collapsed": false
   },
   "outputs": [],
   "source": [
    "%reload_ext autoreload\n",
    "%autoreload 2\n",
    "%matplotlib inline\n",
    "import matplotlib\n",
    "import matplotlib.pyplot as plt\n",
    "import sys, subprocess, time, dendropy, os, copy, glob\n",
    "import numpy as np\n",
    "from sklearn import manifold, metrics, cluster, neighbors, decomposition, preprocessing\n",
    "import treesignal"
   ]
  },
  {
   "cell_type": "markdown",
   "metadata": {},
   "source": [
    "### Loading reference trees (sptrees)\n",
    "100 estimates using iGTP duploss cost. We also add \"noise\" (SPR neighbours) since this function also removes duplicated trees. Some iGTP sptrees miss one species, and therefore must be excluded."
   ]
  },
  {
   "cell_type": "code",
   "execution_count": null,
   "metadata": {
    "collapsed": false
   },
   "outputs": [],
   "source": [
    "#f_dir = \"/home/leo/Academic/Projects/164-Katz/12.concat_mbayes_output_201705/201704.igtp_output/result_0407/igtp*\"\n",
    "f_dir = \"/home/leomrtns/guenomu_local/2017.miguel_tol/result_0407/igtp*\"\n",
    "spstring = \"\"\n",
    "for file in glob.glob(f_dir):\n",
    "    sptree = dendropy.TreeList.get_from_path (file, \"newick\", preserve_underscores=True)\n",
    "    if(len(sptree[0].leaf_nodes()) == 155):\n",
    "        spstring += sptree[0].as_string(\"newick\",suppress_edge_lengths=True).rstrip().replace(\"'\",\"\")\n",
    "    \n",
    "sptrees = treesignal.lowlevel_randomise_trees_with_spr_string(spstring, n_copies=2, n_spr=3)"
   ]
  },
  {
   "cell_type": "markdown",
   "metadata": {},
   "source": [
    "### Read gene trees and calculate feature matrix rows \n",
    "* Reading only first tree from each file\n",
    "* function yield_from_files allow several files to be read at once, and trees being read one by one\n",
    "* the calculated distances are scaled (using a single scaling factor for all distances, which is total number of branches (on both trees)"
   ]
  },
  {
   "cell_type": "code",
   "execution_count": null,
   "metadata": {
    "collapsed": false,
    "scrolled": true
   },
   "outputs": [],
   "source": [
    "ts = treesignal.TreeSignal(sp_trees = dendropy.TreeList.get( data=sptrees, schema=\"newick\"), replicates=500)\n",
    "\n",
    "#f_dir = \"/home/leo/Academic/Projects/164-Katz/12.concat_mbayes_output_201703/201705.raxml/OG5_*\"\n",
    "f_dir = \"/home/leomrtns/guenomu_local/2017.miguel_tol/201705.raxml/OG5_*\"\n",
    "feat_mat = []\n",
    "genesize = []\n",
    "\n",
    "for file in glob.glob(f_dir):\n",
    "    tyield = dendropy.Tree.yield_from_files(files=[file], schema=\"nexus\", preserve_underscores=True)\n",
    "    for idx, tre in enumerate (tyield): # iterate over trees as it reads (not everything in memory at once)\n",
    "        if idx > 0: # read only first trees\n",
    "            break\n",
    "        else:\n",
    "            #print (tre.as_string(\"newick\",suppress_edge_lengths=True).replace(\"'\",\"\"))\n",
    "            spectrum = ts(tre)\n",
    "            if spectrum.max() > -1.: # if genetree is too small etc. there is no spectrum\n",
    "                feat_mat.append(spectrum)\n",
    "                genesize.append(len(tre.leaf_nodes()))\n",
    "    \n",
    "feat_mat = np.array(feat_mat)\n",
    "genesize = np.array(genesize)\n",
    "print (\"dimensions: \", feat_mat.shape) "
   ]
  },
  {
   "cell_type": "code",
   "execution_count": null,
   "metadata": {
    "collapsed": false
   },
   "outputs": [],
   "source": [
    "## order of the FEATURES (distances) using first PC \n",
    "feat_order = np.argsort(decomposition.PCA(n_components=2).fit_transform(feat_mat.T)[:,0])\n",
    "fig, axes = plt.subplots(1) ; fig.set_size_inches(15,3)\n",
    "fig.subplots_adjust(top=.99, bottom=.01, left=.03, right=.97, wspace=.1, hspace=.1)\n",
    "axes.imshow(feat_mat[:,feat_order],aspect='auto', cmap=\"Spectral_r\", interpolation=\"nearest\")\n",
    "axes.set_title(\"spectrum composed of p-values and minmax scaled distances (PCA reordering)\")"
   ]
  },
  {
   "cell_type": "code",
   "execution_count": null,
   "metadata": {
    "collapsed": false
   },
   "outputs": [],
   "source": [
    "#fmatrix = feat_mat[:,int(feat_mat.shape[1]/2):]\n",
    "fmatrix = feat_mat/feat_mat.mean(0)\n",
    "transf_T = manifold.TSNE(n_components=2, perplexity=20, n_iter=5000).fit_transform(fmatrix)\n",
    "transf_I = manifold.Isomap(n_neighbors=10, n_components=2).fit_transform(fmatrix)\n",
    "transf_M = manifold.MDS(n_components=2).fit_transform(fmatrix)\n",
    "transf_S = manifold.SpectralEmbedding(n_components=2).fit_transform(fmatrix)"
   ]
  },
  {
   "cell_type": "code",
   "execution_count": null,
   "metadata": {
    "collapsed": false
   },
   "outputs": [],
   "source": [
    "#  %%script false # tell jupyter NOT TO RUN cell (on linux only)\n",
    "fig, axes = plt.subplots(2,2) ; fig.set_size_inches(12, 10)\n",
    "fig.subplots_adjust(top=.99, bottom=.01, left=.02, right=.98, wspace=.1, hspace=.2)\n",
    " \n",
    "axes[0,0].scatter(transf_M[:,1], transf_M[:,0], c=genesize, edgecolor=\"black\", cmap=\"plasma\", alpha=.6, s=60)\n",
    "axes[0,0].set_title(\"MDS\",  fontsize=18)\n",
    "axes[0,1].scatter(transf_T[:,1], transf_T[:,0], c=genesize, edgecolor=\"black\", cmap=\"plasma\", alpha=.6, s=60)\n",
    "axes[0,1].set_title(\"t-SNE\",  fontsize=18)\n",
    "axes[1,0].scatter(transf_I[:,1], transf_I[:,0], c=genesize, edgecolor=\"black\", cmap=\"plasma\", alpha=.6, s=60)\n",
    "axes[1,0].set_title(\"Isomap\",  fontsize=18)\n",
    "axes[1,1].scatter(transf_S[:,1], transf_S[:,0], c=genesize, edgecolor=\"black\", cmap=\"plasma\", alpha=.6, s=60)\n",
    "axes[1,1].set_title(\"NN SpectralEmbedding\",  fontsize=18)"
   ]
  },
  {
   "cell_type": "code",
   "execution_count": null,
   "metadata": {
    "collapsed": true
   },
   "outputs": [],
   "source": []
  }
 ],
 "metadata": {
  "kernelspec": {
   "display_name": "Python 3",
   "language": "python",
   "name": "python3"
  },
  "language_info": {
   "codemirror_mode": {
    "name": "ipython",
    "version": 3
   },
   "file_extension": ".py",
   "mimetype": "text/x-python",
   "name": "python",
   "nbconvert_exporter": "python",
   "pygments_lexer": "ipython3",
   "version": "3.5.4rc1"
  }
 },
 "nbformat": 4,
 "nbformat_minor": 0
}
