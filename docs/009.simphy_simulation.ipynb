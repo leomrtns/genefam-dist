{
 "cells": [
  {
   "cell_type": "markdown",
   "metadata": {},
   "source": [
    "## 009.Using Simphy to simulate trees\n"
   ]
  },
  {
   "cell_type": "code",
   "execution_count": 1,
   "metadata": {
    "collapsed": true
   },
   "outputs": [],
   "source": [
    "%reload_ext autoreload\n",
    "%autoreload 2\n",
    "%matplotlib inline\n",
    "import matplotlib\n",
    "import matplotlib.pyplot as plt\n",
    "import sys, subprocess, time, dendropy, os, copy\n",
    "import numpy as np\n",
    "from sklearn import manifold, metrics, cluster, neighbors, decomposition, preprocessing\n",
    "import treesignal"
   ]
  },
  {
   "cell_type": "code",
   "execution_count": 2,
   "metadata": {
    "collapsed": true
   },
   "outputs": [],
   "source": [
    "def read_tree(path):\n",
    "    tree = dendropy.Tree.get(path = path, schema=\"newick\", preserve_underscores=True)\n",
    "    for leaf in tree.leaf_nodes(): # simphy default is to name as numbers\n",
    "        leaf.taxon.label = \"s\" + leaf.taxon.label # 1_2_1 becomes s1_2_1\n",
    "    return tree\n",
    "\n",
    "def simphy(ntaxa=8, n_sp=4, nloci=2):\n",
    "    ## limited to less than 1000 species trees and loci per sptree (just b/c of padding)\n",
    "    tmp_dir = \"/tmp/simphy\"\n",
    "    cli = \"/home/leo/Academic/Biomath/Simulation/SimPhy/bin/simphy\"\n",
    "    # sb, ld, lb, lt are rate of transfers, births, etc. sp. su, st are pop size, tree height, subst rate\n",
    "    cli += \" -sb f:0.00001 -ld f:0.0000004 -lb f:0.00000041 -lt f:0.000005 -sp f:10000 -su f:0.0001 -st f:1000000\"\n",
    "    # sg is generation time, ls is minimum # of species per locus tree\n",
    "    cli += \" -sg f:1 -sl F:\" + str(ntaxa) + \" -ls 4 -o \" + tmp_dir\n",
    "    cli += \" -rs \" + str(n_sp) + \" -rl F:\" + str(nloci) + \" \"\n",
    "    now_time = time.perf_counter()\n",
    "    proc_run = subprocess.run(cli, shell=True, stdout=subprocess.PIPE, universal_newlines=True)\n",
    "    now_time = time.perf_counter() - now_time\n",
    "    print(\"simphy finished in \" + str(now_time) + \"secs\")\n",
    "    \n",
    "    ## read g_treesXX.trees and s_tree.treesfiles from directories 1 ... n_sptrees\n",
    "    ## (where XX is left-padded number of loci)\n",
    "    \n",
    "    if nloci < 10:    n_pad=1\n",
    "    elif nloci < 100: n_pad=2\n",
    "    else:             n_pad=3\n",
    "    if n_sp < 10:    s_pad=1\n",
    "    elif n_sp < 100: s_pad=2\n",
    "    else:            s_pad=3\n",
    "    sp_trees = list(range(n_sp)) # we know sizes beforehand, just fill with arbitrary numbers\n",
    "    gn_trees = list(range(n_sp))\n",
    "    for i in range(n_sp):\n",
    "        spath = tmp_dir + \"/\" + str(i+1).zfill(s_pad) # this path will be used below\n",
    "        sp_trees[i] = read_tree(spath + \"/s_tree.trees\") # dendropy read plus name change\n",
    "        gn_trees[i] = list(range(nloci))\n",
    "        for j in range(nloci): \n",
    "            gn_trees[i][j] = read_tree(spath + \"/g_trees\" + str(j+1).zfill(n_pad) + \".trees\")\n",
    "    proc_run = subprocess.run(\"rm -rf \" + tmp_dir, shell=True, stdout=subprocess.PIPE, universal_newlines=True)\n",
    "    return sp_trees, gn_trees   "
   ]
  },
  {
   "cell_type": "code",
   "execution_count": 69,
   "metadata": {
    "collapsed": false
   },
   "outputs": [
    {
     "name": "stdout",
     "output_type": "stream",
     "text": [
      "simphy finished in 0.05647250900074141secs\n"
     ]
    }
   ],
   "source": [
    "\n",
    "\n",
    "\n",
    "\n",
    "st, gt = simphy(nloci=15, n_sp=15)"
   ]
  },
  {
   "cell_type": "code",
   "execution_count": 70,
   "metadata": {
    "collapsed": false
   },
   "outputs": [
    {
     "name": "stdout",
     "output_type": "stream",
     "text": [
      "'s7_0_0'\n",
      "'s5_0_0'\n",
      "'s2_0_0'\n",
      "'s3_0_0'\n",
      "'s1_1_0'\n",
      "'s1_0_0'\n",
      "'s8_0_0'\n",
      "'s4_0_0'\n",
      "'s6_0_0'\n",
      "'s3'\n",
      "'s2'\n",
      "'s1'\n",
      "'s8'\n",
      "'s5'\n",
      "'s7'\n",
      "'s4'\n",
      "'s6'\n"
     ]
    }
   ],
   "source": [
    "for leaf in gt[0][0].leaf_nodes():\n",
    "    print (leaf.taxon)\n",
    "for leaf in st[0].leaf_nodes():\n",
    "    print (leaf.taxon)"
   ]
  },
  {
   "cell_type": "code",
   "execution_count": null,
   "metadata": {
    "collapsed": true
   },
   "outputs": [],
   "source": []
  }
 ],
 "metadata": {
  "kernelspec": {
   "display_name": "Python 3",
   "language": "python",
   "name": "python3"
  },
  "language_info": {
   "codemirror_mode": {
    "name": "ipython",
    "version": 3
   },
   "file_extension": ".py",
   "mimetype": "text/x-python",
   "name": "python",
   "nbconvert_exporter": "python",
   "pygments_lexer": "ipython3",
   "version": "3.5.4rc1"
  }
 },
 "nbformat": 4,
 "nbformat_minor": 0
}
