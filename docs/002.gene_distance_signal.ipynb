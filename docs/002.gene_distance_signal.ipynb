{
 "cells": [
  {
   "cell_type": "markdown",
   "metadata": {},
   "source": [
    "# Initial test with spectral signal of gene trees"
   ]
  },
  {
   "cell_type": "code",
   "execution_count": 4,
   "metadata": {
    "collapsed": false
   },
   "outputs": [],
   "source": [
    "%reload_ext autoreload\n",
    "%autoreload 2\n",
    "%matplotlib inline\n",
    "import matplotlib\n",
    "import matplotlib.pyplot as plt\n",
    "import sys, subprocess, time, dendropy, os\n",
    "import numpy as np\n",
    "\n",
    "bindir=\"/home/leo/local/bin/\"\n",
    "localdir=\"/tmp/\""
   ]
  },
  {
   "cell_type": "code",
   "execution_count": 147,
   "metadata": {
    "collapsed": false
   },
   "outputs": [],
   "source": [
    "def run_dspr (tree1, tree2):\n",
    "    localfile = localdir + \"pair.tre\"\n",
    "    dendropy.TreeList([tree1,tree2]).write(path=localfile, schema=\"nexus\")\n",
    "    start_time = time.perf_counter()\n",
    "    proc_run = subprocess.run(bindir + \"gf_spr_distance \" + localfile, shell=True, stdout=subprocess.PIPE, \n",
    "                              universal_newlines=True)\n",
    "    elapsed_time = time.perf_counter() - start_time\n",
    "    line = proc_run.stdout.splitlines()[1].split()[1:4] # second line has dists as columns, we want 2nd~4th\n",
    "    dists = [float(i) for i in line] # SPR, RF, Hdist, respectively\n",
    "        \n",
    "    return elapsed_time, dists"
   ]
  },
  {
   "cell_type": "code",
   "execution_count": 7,
   "metadata": {
    "collapsed": false
   },
   "outputs": [],
   "source": [
    "n_leaves = 8\n",
    "def generate_trees (n_trees, n_spr, frac_wrong, max_error):\n",
    "    os.chdir(localdir)\n",
    "    proc_run = subprocess.run([bindir + \"gf_generate_spr_trees\", str(n_leaves), str(n_trees), str(n_spr)],\n",
    "                              stdout=subprocess.PIPE, universal_newlines=True)\n",
    "    with open(\"tmp.tre\", \"w\") as trefile:\n",
    "        print(proc_run.stdout, file=trefile)\n",
    "    proc_run = subprocess.run([bindir + \"bmc2_addTreeNoise\", \"tmp.tre\", str(frac_wrong), str(max_error), \"100\"],\n",
    "                              stdout=subprocess.PIPE, universal_newlines=True)\n",
    "    return dendropy.TreeList.get(path=\"noise.tre\", schema=\"nexus\")"
   ]
  },
  {
   "cell_type": "code",
   "execution_count": 8,
   "metadata": {
    "collapsed": false
   },
   "outputs": [
    {
     "ename": "NewickReaderIncompleteTreeStatementError",
     "evalue": "Error parsing data source 'noise.tre' on line 14 at column 65: Incomplete or improperly-terminated tree statement (last character read was ')' instead of a semi-colon ';')",
     "output_type": "error",
     "traceback": [
      "\u001b[1;31m---------------------------------------------------------------------------\u001b[0m",
      "\u001b[1;31mNewickReaderIncompleteTreeStatementError\u001b[0m  Traceback (most recent call last)",
      "\u001b[1;32m<ipython-input-8-92ca122caaf6>\u001b[0m in \u001b[0;36m<module>\u001b[1;34m()\u001b[0m\n\u001b[1;32m----> 1\u001b[1;33m \u001b[0mx\u001b[0m \u001b[1;33m=\u001b[0m \u001b[0mgenerate_trees\u001b[0m \u001b[1;33m(\u001b[0m\u001b[1;36m2\u001b[0m\u001b[1;33m,\u001b[0m\u001b[1;36m1\u001b[0m\u001b[1;33m,\u001b[0m\u001b[1;36m0.5\u001b[0m\u001b[1;33m,\u001b[0m\u001b[1;36m0.8\u001b[0m\u001b[1;33m)\u001b[0m\u001b[1;33m\u001b[0m\u001b[0m\n\u001b[0m",
      "\u001b[1;32m<ipython-input-7-9ed946b095b2>\u001b[0m in \u001b[0;36mgenerate_trees\u001b[1;34m(n_trees, n_spr, frac_wrong, max_error)\u001b[0m\n\u001b[0;32m      8\u001b[0m     proc_run = subprocess.run([bindir + \"bmc2_addTreeNoise\", \"tmp.tre\", str(frac_wrong), str(max_error), \"100\"],\n\u001b[0;32m      9\u001b[0m                               stdout=subprocess.PIPE, universal_newlines=True)\n\u001b[1;32m---> 10\u001b[1;33m     \u001b[1;32mreturn\u001b[0m \u001b[0mdendropy\u001b[0m\u001b[1;33m.\u001b[0m\u001b[0mTreeList\u001b[0m\u001b[1;33m.\u001b[0m\u001b[0mget\u001b[0m\u001b[1;33m(\u001b[0m\u001b[0mpath\u001b[0m\u001b[1;33m=\u001b[0m\u001b[1;34m\"noise.tre\"\u001b[0m\u001b[1;33m,\u001b[0m \u001b[0mschema\u001b[0m\u001b[1;33m=\u001b[0m\u001b[1;34m\"nexus\"\u001b[0m\u001b[1;33m)\u001b[0m\u001b[1;33m\u001b[0m\u001b[0m\n\u001b[0m",
      "\u001b[1;32m/usr/local/lib/python3.5/dist-packages/dendropy/datamodel/treecollectionmodel.py\u001b[0m in \u001b[0;36mget\u001b[1;34m(cls, **kwargs)\u001b[0m\n\u001b[0;32m    278\u001b[0m \u001b[1;33m\u001b[0m\u001b[0m\n\u001b[0;32m    279\u001b[0m         \"\"\"\n\u001b[1;32m--> 280\u001b[1;33m         \u001b[1;32mreturn\u001b[0m \u001b[0mcls\u001b[0m\u001b[1;33m.\u001b[0m\u001b[0m_get_from\u001b[0m\u001b[1;33m(\u001b[0m\u001b[1;33m**\u001b[0m\u001b[0mkwargs\u001b[0m\u001b[1;33m)\u001b[0m\u001b[1;33m\u001b[0m\u001b[0m\n\u001b[0m\u001b[0;32m    281\u001b[0m \u001b[1;33m\u001b[0m\u001b[0m\n\u001b[0;32m    282\u001b[0m     \u001b[0mDEFAULT_TREE_TYPE\u001b[0m \u001b[1;33m=\u001b[0m \u001b[0mtreemodel\u001b[0m\u001b[1;33m.\u001b[0m\u001b[0mTree\u001b[0m\u001b[1;33m\u001b[0m\u001b[0m\n",
      "\u001b[1;32m/usr/local/lib/python3.5/dist-packages/dendropy/datamodel/basemodel.py\u001b[0m in \u001b[0;36m_get_from\u001b[1;34m(cls, **kwargs)\u001b[0m\n\u001b[0;32m    153\u001b[0m             \u001b[1;32mreturn\u001b[0m \u001b[0mcls\u001b[0m\u001b[1;33m.\u001b[0m\u001b[0mget_from_stream\u001b[0m\u001b[1;33m(\u001b[0m\u001b[0msrc\u001b[0m\u001b[1;33m=\u001b[0m\u001b[0msrc\u001b[0m\u001b[1;33m,\u001b[0m \u001b[0mschema\u001b[0m\u001b[1;33m=\u001b[0m\u001b[0mschema\u001b[0m\u001b[1;33m,\u001b[0m \u001b[1;33m**\u001b[0m\u001b[0mkwargs\u001b[0m\u001b[1;33m)\u001b[0m\u001b[1;33m\u001b[0m\u001b[0m\n\u001b[0;32m    154\u001b[0m         \u001b[1;32melif\u001b[0m \u001b[0msrc_type\u001b[0m \u001b[1;33m==\u001b[0m \u001b[1;34m\"path\"\u001b[0m\u001b[1;33m:\u001b[0m\u001b[1;33m\u001b[0m\u001b[0m\n\u001b[1;32m--> 155\u001b[1;33m             \u001b[1;32mreturn\u001b[0m \u001b[0mcls\u001b[0m\u001b[1;33m.\u001b[0m\u001b[0mget_from_path\u001b[0m\u001b[1;33m(\u001b[0m\u001b[0msrc\u001b[0m\u001b[1;33m=\u001b[0m\u001b[0msrc\u001b[0m\u001b[1;33m,\u001b[0m \u001b[0mschema\u001b[0m\u001b[1;33m=\u001b[0m\u001b[0mschema\u001b[0m\u001b[1;33m,\u001b[0m \u001b[1;33m**\u001b[0m\u001b[0mkwargs\u001b[0m\u001b[1;33m)\u001b[0m\u001b[1;33m\u001b[0m\u001b[0m\n\u001b[0m\u001b[0;32m    156\u001b[0m         \u001b[1;32melif\u001b[0m \u001b[0msrc_type\u001b[0m \u001b[1;33m==\u001b[0m \u001b[1;34m\"data\"\u001b[0m \u001b[1;32mor\u001b[0m \u001b[0msrc_type\u001b[0m \u001b[1;33m==\u001b[0m \u001b[1;34m\"string\"\u001b[0m\u001b[1;33m:\u001b[0m\u001b[1;33m\u001b[0m\u001b[0m\n\u001b[0;32m    157\u001b[0m             \u001b[1;32mreturn\u001b[0m \u001b[0mcls\u001b[0m\u001b[1;33m.\u001b[0m\u001b[0mget_from_string\u001b[0m\u001b[1;33m(\u001b[0m\u001b[0msrc\u001b[0m\u001b[1;33m=\u001b[0m\u001b[0msrc\u001b[0m\u001b[1;33m,\u001b[0m \u001b[0mschema\u001b[0m\u001b[1;33m=\u001b[0m\u001b[0mschema\u001b[0m\u001b[1;33m,\u001b[0m \u001b[1;33m**\u001b[0m\u001b[0mkwargs\u001b[0m\u001b[1;33m)\u001b[0m\u001b[1;33m\u001b[0m\u001b[0m\n",
      "\u001b[1;32m/usr/local/lib/python3.5/dist-packages/dendropy/datamodel/basemodel.py\u001b[0m in \u001b[0;36mget_from_path\u001b[1;34m(cls, src, schema, **kwargs)\u001b[0m\n\u001b[0;32m    216\u001b[0m             return cls._parse_and_create_from_stream(stream=fsrc,\n\u001b[0;32m    217\u001b[0m                     \u001b[0mschema\u001b[0m\u001b[1;33m=\u001b[0m\u001b[0mschema\u001b[0m\u001b[1;33m,\u001b[0m\u001b[1;33m\u001b[0m\u001b[0m\n\u001b[1;32m--> 218\u001b[1;33m                     **kwargs)\n\u001b[0m\u001b[0;32m    219\u001b[0m     \u001b[0mget_from_path\u001b[0m \u001b[1;33m=\u001b[0m \u001b[0mclassmethod\u001b[0m\u001b[1;33m(\u001b[0m\u001b[0mget_from_path\u001b[0m\u001b[1;33m)\u001b[0m\u001b[1;33m\u001b[0m\u001b[0m\n\u001b[0;32m    220\u001b[0m \u001b[1;33m\u001b[0m\u001b[0m\n",
      "\u001b[1;32m/usr/local/lib/python3.5/dist-packages/dendropy/datamodel/treecollectionmodel.py\u001b[0m in \u001b[0;36m_parse_and_create_from_stream\u001b[1;34m(cls, stream, schema, collection_offset, tree_offset, **kwargs)\u001b[0m\n\u001b[0;32m    171\u001b[0m                         \u001b[0mtaxon_namespace_factory\u001b[0m\u001b[1;33m=\u001b[0m\u001b[0mtree_list\u001b[0m\u001b[1;33m.\u001b[0m\u001b[0m_taxon_namespace_pseudofactory\u001b[0m\u001b[1;33m,\u001b[0m\u001b[1;33m\u001b[0m\u001b[0m\n\u001b[0;32m    172\u001b[0m                         \u001b[0mtree_list_factory\u001b[0m\u001b[1;33m=\u001b[0m\u001b[0mtree_list\u001b[0m\u001b[1;33m.\u001b[0m\u001b[0m_tree_list_pseudofactory\u001b[0m\u001b[1;33m,\u001b[0m\u001b[1;33m\u001b[0m\u001b[0m\n\u001b[1;32m--> 173\u001b[1;33m                         global_annotations_target=None)\n\u001b[0m\u001b[0;32m    174\u001b[0m         \u001b[1;32melse\u001b[0m\u001b[1;33m:\u001b[0m\u001b[1;33m\u001b[0m\u001b[0m\n\u001b[0;32m    175\u001b[0m             tree_lists = reader.read_tree_lists(\n",
      "\u001b[1;32m/usr/local/lib/python3.5/dist-packages/dendropy/dataio/ioservice.py\u001b[0m in \u001b[0;36mread_tree_lists\u001b[1;34m(self, stream, taxon_namespace_factory, tree_list_factory, global_annotations_target)\u001b[0m\n\u001b[0;32m    360\u001b[0m                 \u001b[0mchar_matrix_factory\u001b[0m\u001b[1;33m=\u001b[0m\u001b[1;32mNone\u001b[0m\u001b[1;33m,\u001b[0m\u001b[1;33m\u001b[0m\u001b[0m\n\u001b[0;32m    361\u001b[0m                 \u001b[0mstate_alphabet_factory\u001b[0m\u001b[1;33m=\u001b[0m\u001b[1;32mNone\u001b[0m\u001b[1;33m,\u001b[0m\u001b[1;33m\u001b[0m\u001b[0m\n\u001b[1;32m--> 362\u001b[1;33m                 global_annotations_target=global_annotations_target)\n\u001b[0m\u001b[0;32m    363\u001b[0m         \u001b[1;32mreturn\u001b[0m \u001b[0mproduct\u001b[0m\u001b[1;33m.\u001b[0m\u001b[0mtree_lists\u001b[0m\u001b[1;33m\u001b[0m\u001b[0m\n\u001b[0;32m    364\u001b[0m \u001b[1;33m\u001b[0m\u001b[0m\n",
      "\u001b[1;32m/usr/local/lib/python3.5/dist-packages/dendropy/dataio/nexusreader.py\u001b[0m in \u001b[0;36m_read\u001b[1;34m(self, stream, taxon_namespace_factory, tree_list_factory, char_matrix_factory, state_alphabet_factory, global_annotations_target)\u001b[0m\n\u001b[0;32m    360\u001b[0m         \u001b[0mself\u001b[0m\u001b[1;33m.\u001b[0m\u001b[0m_state_alphabet_factory\u001b[0m \u001b[1;33m=\u001b[0m \u001b[0mstate_alphabet_factory\u001b[0m\u001b[1;33m\u001b[0m\u001b[0m\n\u001b[0;32m    361\u001b[0m         \u001b[0mself\u001b[0m\u001b[1;33m.\u001b[0m\u001b[0m_global_annotations_target\u001b[0m \u001b[1;33m=\u001b[0m \u001b[0mglobal_annotations_target\u001b[0m\u001b[1;33m\u001b[0m\u001b[0m\n\u001b[1;32m--> 362\u001b[1;33m         \u001b[0mself\u001b[0m\u001b[1;33m.\u001b[0m\u001b[0m_parse_nexus_stream\u001b[0m\u001b[1;33m(\u001b[0m\u001b[0mstream\u001b[0m\u001b[1;33m)\u001b[0m\u001b[1;33m\u001b[0m\u001b[0m\n\u001b[0m\u001b[0;32m    363\u001b[0m         self._product = self.Product(\n\u001b[0;32m    364\u001b[0m                 \u001b[0mtaxon_namespaces\u001b[0m\u001b[1;33m=\u001b[0m\u001b[0mself\u001b[0m\u001b[1;33m.\u001b[0m\u001b[0m_taxon_namespaces\u001b[0m\u001b[1;33m,\u001b[0m\u001b[1;33m\u001b[0m\u001b[0m\n",
      "\u001b[1;32m/usr/local/lib/python3.5/dist-packages/dendropy/dataio/nexusreader.py\u001b[0m in \u001b[0;36m_parse_nexus_stream\u001b[1;34m(self, stream)\u001b[0m\n\u001b[0;32m    565\u001b[0m                 \u001b[0mself\u001b[0m\u001b[1;33m.\u001b[0m\u001b[0m_parse_characters_data_block\u001b[0m\u001b[1;33m(\u001b[0m\u001b[1;33m)\u001b[0m\u001b[1;33m\u001b[0m\u001b[0m\n\u001b[0;32m    566\u001b[0m             \u001b[1;32melif\u001b[0m \u001b[0mtoken\u001b[0m \u001b[1;33m==\u001b[0m \u001b[1;34m'TREES'\u001b[0m\u001b[1;33m:\u001b[0m\u001b[1;33m\u001b[0m\u001b[0m\n\u001b[1;32m--> 567\u001b[1;33m                 \u001b[0mself\u001b[0m\u001b[1;33m.\u001b[0m\u001b[0m_parse_trees_block\u001b[0m\u001b[1;33m(\u001b[0m\u001b[1;33m)\u001b[0m\u001b[1;33m\u001b[0m\u001b[0m\n\u001b[0m\u001b[0;32m    568\u001b[0m             \u001b[1;32melif\u001b[0m \u001b[0mtoken\u001b[0m \u001b[1;32min\u001b[0m \u001b[1;33m[\u001b[0m\u001b[1;34m'SETS'\u001b[0m\u001b[1;33m,\u001b[0m \u001b[1;34m'ASSUMPTIONS'\u001b[0m\u001b[1;33m,\u001b[0m \u001b[1;34m'CODONS'\u001b[0m\u001b[1;33m]\u001b[0m\u001b[1;33m:\u001b[0m\u001b[1;33m\u001b[0m\u001b[0m\n\u001b[0;32m    569\u001b[0m                 \u001b[1;32mif\u001b[0m \u001b[1;32mnot\u001b[0m \u001b[0mself\u001b[0m\u001b[1;33m.\u001b[0m\u001b[0mexclude_chars\u001b[0m\u001b[1;33m:\u001b[0m\u001b[1;33m\u001b[0m\u001b[0m\n",
      "\u001b[1;32m/usr/local/lib/python3.5/dist-packages/dendropy/dataio/nexusreader.py\u001b[0m in \u001b[0;36m_parse_trees_block\u001b[1;34m(self)\u001b[0m\n\u001b[0;32m   1113\u001b[0m                     tree = self._parse_tree_statement(\n\u001b[0;32m   1114\u001b[0m                             \u001b[0mtree_factory\u001b[0m\u001b[1;33m=\u001b[0m\u001b[0mtree_factory\u001b[0m\u001b[1;33m,\u001b[0m\u001b[1;33m\u001b[0m\u001b[0m\n\u001b[1;32m-> 1115\u001b[1;33m                             taxon_symbol_mapper=taxon_symbol_mapper)\n\u001b[0m\u001b[0;32m   1116\u001b[0m                     \u001b[1;32mif\u001b[0m \u001b[0mself\u001b[0m\u001b[1;33m.\u001b[0m\u001b[0m_nexus_tokenizer\u001b[0m\u001b[1;33m.\u001b[0m\u001b[0mis_eof\u001b[0m\u001b[1;33m(\u001b[0m\u001b[1;33m)\u001b[0m \u001b[1;32mor\u001b[0m \u001b[1;32mnot\u001b[0m \u001b[0mself\u001b[0m\u001b[1;33m.\u001b[0m\u001b[0m_nexus_tokenizer\u001b[0m\u001b[1;33m.\u001b[0m\u001b[0mcurrent_token\u001b[0m\u001b[1;33m:\u001b[0m\u001b[1;33m\u001b[0m\u001b[0m\n\u001b[0;32m   1117\u001b[0m                         \u001b[1;32mbreak\u001b[0m\u001b[1;33m\u001b[0m\u001b[0m\n",
      "\u001b[1;32m/usr/local/lib/python3.5/dist-packages/dendropy/dataio/nexusreader.py\u001b[0m in \u001b[0;36m_parse_tree_statement\u001b[1;34m(self, tree_factory, taxon_symbol_mapper)\u001b[0m\n\u001b[0;32m    993\u001b[0m         \u001b[1;31m# advance to '('; comments will be processed by newick reader\u001b[0m\u001b[1;33m\u001b[0m\u001b[1;33m\u001b[0m\u001b[0m\n\u001b[0;32m    994\u001b[0m         \u001b[0mself\u001b[0m\u001b[1;33m.\u001b[0m\u001b[0m_nexus_tokenizer\u001b[0m\u001b[1;33m.\u001b[0m\u001b[0mnext_token\u001b[0m\u001b[1;33m(\u001b[0m\u001b[1;33m)\u001b[0m\u001b[1;33m\u001b[0m\u001b[0m\n\u001b[1;32m--> 995\u001b[1;33m         \u001b[0mtree\u001b[0m \u001b[1;33m=\u001b[0m \u001b[0mself\u001b[0m\u001b[1;33m.\u001b[0m\u001b[0m_build_tree_from_newick_tree_string\u001b[0m\u001b[1;33m(\u001b[0m\u001b[0mtree_factory\u001b[0m\u001b[1;33m,\u001b[0m \u001b[0mtaxon_symbol_mapper\u001b[0m\u001b[1;33m)\u001b[0m\u001b[1;33m\u001b[0m\u001b[0m\n\u001b[0m\u001b[0;32m    996\u001b[0m         \u001b[0mtree\u001b[0m\u001b[1;33m.\u001b[0m\u001b[0mlabel\u001b[0m \u001b[1;33m=\u001b[0m \u001b[0mtree_name\u001b[0m\u001b[1;33m\u001b[0m\u001b[0m\n\u001b[0;32m    997\u001b[0m         \u001b[0mnexusprocessing\u001b[0m\u001b[1;33m.\u001b[0m\u001b[0mprocess_comments_for_item\u001b[0m\u001b[1;33m(\u001b[0m\u001b[0mtree\u001b[0m\u001b[1;33m,\u001b[0m \u001b[0mpre_tree_comments\u001b[0m\u001b[1;33m,\u001b[0m \u001b[0mself\u001b[0m\u001b[1;33m.\u001b[0m\u001b[0mextract_comment_metadata\u001b[0m\u001b[1;33m)\u001b[0m\u001b[1;33m\u001b[0m\u001b[0m\n",
      "\u001b[1;32m/usr/local/lib/python3.5/dist-packages/dendropy/dataio/nexusreader.py\u001b[0m in \u001b[0;36m_build_tree_from_newick_tree_string\u001b[1;34m(self, tree_factory, taxon_symbol_mapper)\u001b[0m\n\u001b[0;32m   1015\u001b[0m                 \u001b[0mnexus_tokenizer\u001b[0m\u001b[1;33m=\u001b[0m\u001b[0mself\u001b[0m\u001b[1;33m.\u001b[0m\u001b[0m_nexus_tokenizer\u001b[0m\u001b[1;33m,\u001b[0m\u001b[1;33m\u001b[0m\u001b[0m\n\u001b[0;32m   1016\u001b[0m                 \u001b[0mtree_factory\u001b[0m\u001b[1;33m=\u001b[0m\u001b[0mtree_factory\u001b[0m\u001b[1;33m,\u001b[0m\u001b[1;33m\u001b[0m\u001b[0m\n\u001b[1;32m-> 1017\u001b[1;33m                 taxon_symbol_map_fn=taxon_symbol_mapper.require_taxon_for_symbol)\n\u001b[0m\u001b[0;32m   1018\u001b[0m         \u001b[1;32mreturn\u001b[0m \u001b[0mtree\u001b[0m\u001b[1;33m\u001b[0m\u001b[0m\n\u001b[0;32m   1019\u001b[0m \u001b[1;33m\u001b[0m\u001b[0m\n",
      "\u001b[1;32m/usr/local/lib/python3.5/dist-packages/dendropy/dataio/newickreader.py\u001b[0m in \u001b[0;36m_parse_tree_statement\u001b[1;34m(self, nexus_tokenizer, tree_factory, taxon_symbol_map_fn)\u001b[0m\n\u001b[0;32m    379\u001b[0m                     \u001b[0mline_num\u001b[0m\u001b[1;33m=\u001b[0m\u001b[0mnexus_tokenizer\u001b[0m\u001b[1;33m.\u001b[0m\u001b[0mtoken_line_num\u001b[0m\u001b[1;33m,\u001b[0m\u001b[1;33m\u001b[0m\u001b[0m\n\u001b[0;32m    380\u001b[0m                     \u001b[0mcol_num\u001b[0m\u001b[1;33m=\u001b[0m\u001b[0mnexus_tokenizer\u001b[0m\u001b[1;33m.\u001b[0m\u001b[0mtoken_column_num\u001b[0m\u001b[1;33m,\u001b[0m\u001b[1;33m\u001b[0m\u001b[0m\n\u001b[1;32m--> 381\u001b[1;33m                     stream=nexus_tokenizer.src)\n\u001b[0m\u001b[0;32m    382\u001b[0m         \u001b[0mself\u001b[0m\u001b[1;33m.\u001b[0m\u001b[0m_seen_taxa\u001b[0m \u001b[1;33m=\u001b[0m \u001b[1;32mNone\u001b[0m\u001b[1;33m\u001b[0m\u001b[0m\n\u001b[0;32m    383\u001b[0m         \u001b[0mself\u001b[0m\u001b[1;33m.\u001b[0m\u001b[0m_parenthesis_nesting_level\u001b[0m \u001b[1;33m=\u001b[0m \u001b[1;32mNone\u001b[0m\u001b[1;33m\u001b[0m\u001b[0m\n",
      "\u001b[1;31mNewickReaderIncompleteTreeStatementError\u001b[0m: Error parsing data source 'noise.tre' on line 14 at column 65: Incomplete or improperly-terminated tree statement (last character read was ')' instead of a semi-colon ';')"
     ]
    }
   ],
   "source": [
    "x = generate_trees (2,1,0.5,0.8)"
   ]
  },
  {
   "cell_type": "code",
   "execution_count": null,
   "metadata": {
    "collapsed": true
   },
   "outputs": [],
   "source": []
  }
 ],
 "metadata": {
  "kernelspec": {
   "display_name": "Python 3",
   "language": "python",
   "name": "python3"
  },
  "language_info": {
   "codemirror_mode": {
    "name": "ipython",
    "version": 3
   },
   "file_extension": ".py",
   "mimetype": "text/x-python",
   "name": "python",
   "nbconvert_exporter": "python",
   "pygments_lexer": "ipython3",
   "version": "3.5.1+"
  }
 },
 "nbformat": 4,
 "nbformat_minor": 0
}
